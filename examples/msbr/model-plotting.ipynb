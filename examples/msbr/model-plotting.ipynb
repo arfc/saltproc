{
 "cells": [
  {
   "cell_type": "code",
   "execution_count": 1,
   "id": "bdbd4aaa",
   "metadata": {},
   "outputs": [],
   "source": [
    "import openmc\n",
    "import numpy as np"
   ]
  },
  {
   "cell_type": "code",
   "execution_count": 2,
   "id": "1750e153",
   "metadata": {},
   "outputs": [],
   "source": [
    "# to make the geometry, convert the serpent geometry then do the following:\n",
    "# 1. delete cell 334 and 335\n",
    "# 2. chainge remove material from cell 333 and make the fill universe 24\n",
    "# 3. make the region of surface 948 the negative halfspace\n",
    "\n",
    "# broken geometry universes: 7,13 2, "
   ]
  },
  {
   "cell_type": "code",
   "execution_count": 3,
   "id": "56642afc",
   "metadata": {},
   "outputs": [],
   "source": [
    "# Create materials\n",
    "mat = openmc.Materials.from_xml()\n",
    "moder, hast, fuel = mat\n",
    "# mat = openmc.Materials()\n",
    "# ..."
   ]
  },
  {
   "cell_type": "code",
   "execution_count": 4,
   "id": "5bf1ab77",
   "metadata": {},
   "outputs": [],
   "source": [
    "colormap = {mat[0]: 'purple',\n",
    "           mat[1]: 'blue',\n",
    "           mat[2]: 'yellow'}"
   ]
  },
  {
   "cell_type": "code",
   "execution_count": 5,
   "id": "3e341197",
   "metadata": {},
   "outputs": [],
   "source": [
    "def _bound_zone_cells(cells_tuples, levels):\n",
    "    cell_list = []\n",
    "    for i, cells in enumerate(cells_tuples):\n",
    "        lower_bound = levels[i]\n",
    "        upper_bound = levels[i+1]\n",
    "        for j, cell in enumerate(cells):\n",
    "            cell.region = cell.region & +lower_bound & -upper_bound\n",
    "            cell_list.append(cell)\n",
    "    return cell_list\n",
    "\n",
    "def shared_zone_geometry():\n",
    "    \"\"\"Surfaces and regions shared by Zone IA and Zone IIA elements. \n",
    "    Specs found in Robertson, 1971 Fig 3.4 (p. 17) and Fig 3.5 (p.18)\"\"\"\n",
    "\n",
    "    elem_bound = openmc.rectangular_prism(5.08*2, 5.08*2) # Pin outer boundary\n",
    "\n",
    "    gr_sq_neg = openmc.rectangular_prism(4.953*2, 4.953*2, corner_radius=0.46) # Graphite square\n",
    "\n",
    "    # params for main pin section for both I-A and II-A\n",
    "    r_d = 0.66802\n",
    "    l1 = 4.28498\n",
    "    l2 = 4.53898\n",
    "    l3 = 5.62102\n",
    "    ul = openmc.ZCylinder(-l1, l2, r_d, name='corner_ul')\n",
    "    br = openmc.ZCylinder(l1, -l2, r_d, name='corner_br')\n",
    "    lb = openmc.ZCylinder(-l2, -l1, r_d, name='corner_lb')\n",
    "    ru = openmc.ZCylinder(l2, l1, r_d, name='corner_ru')\n",
    "    ul_t = openmc.ZCylinder(-l1, -l3, r_d, name='corner_ul_tip')\n",
    "    br_t = openmc.ZCylinder(l1, l3, r_d, name='corner_br_tip')\n",
    "    ru_t = openmc.ZCylinder(-l3, l1, r_d, name='corner_ru_tip')\n",
    "    lb_t = openmc.ZCylinder(l3, -l1, r_d, name='corner_lb_tip')\n",
    "\n",
    "    gr_corners = elem_bound & (-ul | -br | -lb | -ru | \n",
    "                               -ul_t | -br_t | -ru_t | -lb_t)\n",
    "\n",
    "    inter_elem_channel = (~gr_sq_neg & elem_bound &\n",
    "                         +ul & +br & +lb & +ru &\n",
    "                         +ul_t & +ru_t & +ru_t & +lb_t)\n",
    "    \n",
    "    gr_round_4 = openmc.ZCylinder(r=2.2225, name='gr_round_4')\n",
    "\n",
    "    \n",
    "    return elem_bound, gr_corners, gr_sq_neg, inter_elem_channel, gr_round_4\n",
    "                        "
   ]
  },
  {
   "cell_type": "code",
   "execution_count": 6,
   "id": "71b4a322",
   "metadata": {},
   "outputs": [],
   "source": [
    "#elem_bound, gr_corners, gr_sq_neg, inter_elem_channel, gr_round_4 = shared_zone_geometry()\n",
    "\n",
    "def zoneIA(elem_bound, gr_corners, gr_sq_neg, inter_elem_channel, gr_round_4):\n",
    "    \"\"\"Zone IA element. Specs found in Robertson, 1971 Fig 3.4 (p. 17)\"\"\"\n",
    "    elem_levels = [0.0, 22.86, 419.10, 438.15, 445.135, 449.58]\n",
    "    level_bounds = []\n",
    "    for level in elem_levels:\n",
    "        level_bounds.append(openmc.ZPlane(z0=level))\n",
    "    s1 = openmc.ZCylinder(r=4.953, name='ia_gr_round_1')\n",
    "    s2 = openmc.ZCylinder(r=1.71069, name='ia_fuel_hole')\n",
    "    \n",
    "    h = 12.66\n",
    "    theta = np.arctan(4.953 / h)\n",
    "    r2 = (1 / np.cos(theta))**2 - 1\n",
    "    s3 = openmc.ZCone(z0=h + elem_levels[3], r2=r2, name='cone_i')\n",
    "\n",
    "    c1 = openmc.Cell(fill=fuel, region=(-s2), name='ia_fuel_inner_1')\n",
    "    c2 = openmc.Cell(fill=moder, region=(+s2 & -s1), name='ia_moderator_1')\n",
    "    c3 = openmc.Cell(fill=fuel, region=(+s1 & elem_bound), name='ia_fuel_outer_1')\n",
    "    ia1 = (c1, c2, c3)\n",
    "                         \n",
    "    # I-A  main (lower 2)\n",
    "    c4 = c1.clone(clone_materials=False)\n",
    "    c4.name = 'ia_fuel_inner_main'\n",
    "    c5 = openmc.Cell(fill=moder, region=(+s2 &\n",
    "                                          gr_sq_neg |\n",
    "                                          gr_corners), name='ia_moderator_main')\n",
    "    c6 = openmc.Cell(fill=fuel, region=(inter_elem_channel), name='ia_fuel_outer_main')\n",
    "    iam = (c4, c5, c6)\n",
    "                         \n",
    "    # I-A 2 (upper 1)\n",
    "    c7 = c1.clone(clone_materials=False)\n",
    "    c7.name = 'ia_fuel_inner_2'\n",
    "    c8 = c2.clone(clone_materials=False)\n",
    "    c8.name = 'ia_moderator_2'\n",
    "    c9 = c3.clone(clone_materials=False)\n",
    "    c9.name = 'ia_fuel_outer_2'\n",
    "    ia2 = (c7, c8, c9)\n",
    "\n",
    "    # I-A 3 (upper 2)\n",
    "    c10 = c1.clone(clone_materials=False)\n",
    "    c10.name = 'ia_fuel_inner_3'\n",
    "    c11 = openmc.Cell(fill=moder, region=(+s2 & -s3), name='ia_moderator_3')\n",
    "    c12 = openmc.Cell(fill=fuel, region=(+s3 & elem_bound), name='ia_fuel_outer_3')\n",
    "    ia3 = (c10, c11, c12)                             \n",
    "                         \n",
    "    # I-A 4 (upper 3)\n",
    "    c13 = openmc.Cell(fill=hast, region=(-s2), name='ia_hast')\n",
    "    c14 = openmc.Cell(fill=moder, region=(+s2 & -gr_round_4), name='ia_moderator_4')\n",
    "    c15 = openmc.Cell(fill=fuel, region=(+gr_round_4 & elem_bound), name='ia_fuel_outer_4')\n",
    "    ia4 = (c13, c14, c15)\n",
    "    \n",
    "    elem_cells = [ia1, iam, ia2, ia3, ia4]\n",
    "    ia = openmc.Universe(universe_id=1, name='zone_ia')\n",
    "    ia.add_cells(_bound_zone_cells(elem_cells, level_bounds))\n",
    "                 \n",
    "    return ia\n",
    "\n",
    "def zoneIIA(elem_bound, gr_corners, gr_sq_neg, inter_elem_channel, gr_round_4):\n",
    "    \"\"\"Zone IIA element. Specs found in Robertson, 1971 Fig 3.5 (p. 18)\"\"\"\n",
    "    elem_levels = [0.0, 434.34, 436.88, 439.42, 441.96, 449.58]\n",
    "    level_bounds = []\n",
    "    for level in elem_levels:\n",
    "        level_bounds.append(openmc.ZPlane(z0=level))\n",
    "    s1 = openmc.ZCylinder(r=3.302, name='iia_fuel_hole_main') # Hole with fuel salt - Fig 3.5, Roberton 1971 (3.27787 - p.47)\n",
    "    s2 = openmc.ZCylinder(r=0.635, name='iia_fuel_hole_2')\n",
    "    s3 = openmc.ZCylinder(r=3.65125, name='iia_gr_round_3')\n",
    "    h = 6.5\n",
    "    theta = np.arctan(3.65125 / h)\n",
    "    r2 = (1 / np.cos(theta))**2 - 1\n",
    "    s4 = openmc.ZCone(z0=h + elem_levels[3], r2=r2, name='cone_ii')\n",
    "\n",
    "    # II-A main (lower 1)\n",
    "    c1 = openmc.Cell(fill=fuel, region=(-s1), name='iia_fuel_inner_main')\n",
    "    c2 = openmc.Cell(fill=moder, region=(+s1 & gr_sq_neg | gr_corners), name='iia_moderator_main')\n",
    "    c3 = openmc.Cell(fill=fuel, region=(inter_elem_channel), name='iia_fuel_outer_main')\n",
    "    c3.name = 'iia_fuel_outer_main'\n",
    "    iiam = (c1, c2, c3)\n",
    "\n",
    "    # II-A 2 (upper 1)\n",
    "    c4 = openmc.Cell(fill=fuel, region=(-s2), name='iia_fuel_inner_2')\n",
    "    c5 = openmc.Cell(fill=moder, region=(+s2 & gr_sq_neg | gr_corners), name='iia_moderator_2')\n",
    "    c6 = c3.clone(clone_materials=False)\n",
    "    c6.name = 'iia_fuel_outer_2'\n",
    "    iia2 = (c4, c5, c6)\n",
    "\n",
    "    # II-A 3 (upper 2)\n",
    "    c7 = c4.clone(clone_materials=False)\n",
    "    c7.name = 'iia_fuel_inner_3'\n",
    "    c8 = openmc.Cell(fill=moder, region=(+s2 & -s3), name='iia_moderator_3')\n",
    "    c9 = openmc.Cell(fill=fuel, region=(+s3 & elem_bound), name='iia_fuel_outer_3')\n",
    "    iia3 = (c7, c8, c9)\n",
    "\n",
    "    # II-A 4 (upper 3)  \n",
    "    c10 = openmc.Cell(fill=moder, region=(-s4), name='iia_moderator_4')\n",
    "    c11 = openmc.Cell(fill=fuel, region=(+s4 & elem_bound), name='iia_fuel_outer_4')\n",
    "    iia4 = (c10, c11)\n",
    "\n",
    "    # II-A 5 (upper 4)\n",
    "    c12 = openmc.Cell(fill=moder, region=(-gr_round_4), name='iia_moderator_5')\n",
    "    c13 = openmc.Cell(fill=fuel, region=(+gr_round_4 & elem_bound), name='iia_fuel_outer_5')\n",
    "    iia5 = (c12, c13)\n",
    "    \n",
    "    elem_cells = [iiam, iia2, iia3, iia4, iia5]\n",
    "    \n",
    "    iia = openmc.Universe(universe_id=2, name='zone_iia')\n",
    "    iia.add_cells(_bound_zone_cells(elem_cells, level_bounds))\n",
    "    return iia\n",
    "\n",
    "def void_cell(elem_bound):\n",
    "    c1 = openmc.Cell(region=elem_bound, name='lattice_void')\n",
    "    v = openmc.Universe(universe_id=5, name='lattice_void')\n",
    "    v.add_cell(c1)\n",
    "    return v\n",
    "\n",
    "def graphite_triangles(elem_bound):\n",
    "    s1 = openmc.Plane(1.0, 1.0, 0.0, 0.0)\n",
    "    s2 = openmc.Plane(-1.0, 1.0, 0.0, 0.0)\n",
    "    s3 = openmc.Plane(1.0, -1.0, 0.0, 0.0)\n",
    "    s4 = openmc.Plane(-1.0, -1.0, 0.0, 0.0)\n",
    "    \n",
    "    surfs = [(s4, 'bottom_left'),\n",
    "             (s1, 'top_right'),\n",
    "             (s2, 'top_left'),\n",
    "             (s3, 'bottom_right')]\n",
    "    univs = []\n",
    "    for i, (s, name) in enumerate(surfs): \n",
    "        c1 = openmc.Cell(fill=moder, region=(-s & elem_bound))\n",
    "        c2 = openmc.Cell(fill=fuel, region=(+s & elem_bound))\n",
    "    \n",
    "        gr_tri = openmc.Universe(universe_id=6+i, name=f'{name}_triangle')\n",
    "        gr_tri.add_cells([c1, c2])\n",
    "        univs.append(gr_tri)\n",
    "    \n",
    "    return univs"
   ]
  },
  {
   "cell_type": "code",
   "execution_count": 32,
   "id": "f71ac1b6",
   "metadata": {},
   "outputs": [],
   "source": [
    "def shared_cr_geometry():\n",
    "    fuel_hole = openmc.ZCylinder(r=5.08, name='cr_fuel_hole')\n",
    "    \n",
    "    elem_bound = openmc.rectangular_prism(7.62*2, 7.62*2) # Pin outer boundary\n",
    "\n",
    "    gr_sq_neg = openmc.rectangular_prism(7.23646*2, 7.23646*2, corner_radius=0.99) # Graphite square\n",
    "    # params for \n",
    "    r_d = 1.16\n",
    "    e_d = 2 * r_d / np.sqrt(3)\n",
    "    r_dt = 0.8\n",
    "    r_c = 0.18\n",
    "    l1 = 5.8801\n",
    "    l2 = 6.505\n",
    "    l3 = 8.03646\n",
    "    ul = openmc.model.hexagonal_prism(origin=(-l1, l2), edge_length=e_d, orientation='x', corner_radius=r_c)\n",
    "    br = openmc.model.hexagonal_prism(origin=(l1, -l2), edge_length=e_d, orientation='x',corner_radius=r_c)\n",
    "    lb = openmc.model.hexagonal_prism(origin=(-l2, -l1), edge_length=e_d, orientation='y',corner_radius=r_c)\n",
    "    ru = openmc.model.hexagonal_prism(origin=(l2, l1), edge_length=e_d, orientation='y',corner_radius=r_c)\n",
    "    ul_t = openmc.ZCylinder(-l1, -l3, r_dt, name='corner_ul_tip')\n",
    "    br_t = openmc.ZCylinder(l1, l3, r_dt, name='corner_br_tip')\n",
    "    ru_t = openmc.ZCylinder(-l3, l1, r_dt, name='corner_ru_tip')\n",
    "    lb_t = openmc.ZCylinder(l3, -l1, r_dt, name='corner_lb_tip')\n",
    "\n",
    "    gr_corners = elem_bound & (ul | br | lb | ru | \n",
    "                               -ul_t | -br_t | -ru_t | -lb_t)\n",
    "\n",
    "    inter_elem_channel = (~gr_sq_neg & elem_bound &\n",
    "                         ~ul & ~br & ~lb & ~ru &\n",
    "                         +ul_t & +ru_t & +ru_t & +lb_t)\n",
    "    \n",
    "\n",
    "\n",
    "    return fuel_hole, gr_sq_neg, gr_corners, inter_elem_channel\n",
    "              "
   ]
  },
  {
   "cell_type": "code",
   "execution_count": 33,
   "id": "d17047bd",
   "metadata": {},
   "outputs": [],
   "source": [
    "#fuel_hole, moderator_block, fuel_outer = shared_cr_geometry()          \n",
    "def control_rod(fuel_hole, gr_sq_neg, gr_corners, inter_elem_channel):\n",
    "    s1 = openmc.ZCylinder(r=4.7625, name='control_rod')\n",
    "\n",
    "    c1 = openmc.Cell(fill=moder, region=-s1, name='control_rod')\n",
    "    c2 = openmc.Cell(fill=fuel, region=(+s1 & -fuel_hole), name='cr_fuel_inner')\n",
    "    \n",
    "    moderator_block = openmc.Cell(fill=moder, region=(+fuel_hole & gr_sq_neg | gr_corners), name='cr_moderator')\n",
    "    fuel_outer = openmc.Cell(fill=fuel, region=inter_elem_channel, name='cr_fuel_outer')\n",
    "    cr = openmc.Universe(universe_id=3, name='control_rod')\n",
    "    cr.add_cells([c1, c2, moderator_block, fuel_outer])\n",
    "    \n",
    "    return cr\n",
    "    \n",
    "def control_rod_channel(fuel_hole, gr_sq_neg, gr_corners, inter_elem_channel):\n",
    "    c1 = openmc.Cell(fill=fuel, region=(-fuel_hole), name='crc_fuel_inner')\n",
    "    moderator_block = openmc.Cell(fill=moder, region=(+fuel_hole & gr_sq_neg | gr_corners), name='crc_moderator')\n",
    "    fuel_outer = openmc.Cell(fill=fuel, region=inter_elem_channel, name='crc_fuel_outer')\n",
    "    \n",
    "    crc = openmc.Universe(universe_id=4, name='control_rod_channel')\n",
    "    crc.add_cells([c1, moderator_block, fuel_outer])\n",
    "    \n",
    "    return crc"
   ]
  },
  {
   "cell_type": "code",
   "execution_count": 39,
   "id": "7f985e3a",
   "metadata": {},
   "outputs": [],
   "source": [
    "def cr_lattice():\n",
    "    s4 = openmc.model.rectangular_prism(15.24*2, 15.24*2)\n",
    "    \n",
    "    s5 = openmc.ZPlane(z0=0.0)\n",
    "    s6 = openmc.ZPlane(z0=449.58)\n",
    "\n",
    "    fuel_hole, gr_sq_neg, gr_corners, inter_elem_channel = shared_cr_geometry()          \n",
    "    elem_bound = openmc.rectangular_prism(7.62*2, 7.62*2) # Pin outer boundary\n",
    "\n",
    "    v = void_cell(elem_bound)\n",
    "    f = control_rod(fuel_hole, gr_sq_neg, gr_corners, inter_elem_channel)\n",
    "    e = control_rod_channel(fuel_hole, gr_sq_neg, gr_corners, inter_elem_channel)\n",
    "    \n",
    "    cr = openmc.RectLattice()\n",
    "    cr.pitch = np.array([15.24, 15.24])\n",
    "    N = 2 / 2\n",
    "    cr.lower_left = -1 * cr.pitch * N\n",
    "    cr.universes = [[f, e],\n",
    "                    [e, f]]\n",
    "    \n",
    "    c1 = openmc.Cell(fill=cr, region=(+s5 & -s6 & s4))\n",
    "    \n",
    "    return c1\n",
    "\n",
    "def main_lattice():\n",
    "    s1 = openmc.model.IsogonalOctagon(center=(0.0,0.0), r1=208.28, r2=222.71)\n",
    "    s2 = openmc.model.IsogonalOctagon(center=(0.0,0.0), r1=218.44, r2=215.53)\n",
    "    s3 = openmc.model.IsogonalOctagon(center=(0.0,0.0), r1=228.60, r2=193.97)\n",
    "    \n",
    "    s4 = openmc.model.rectangular_prism(15.24*2, 15.24*2)\n",
    "    \n",
    "    s5 = openmc.ZPlane(z0=0.0)\n",
    "    s6 = openmc.ZPlane(z0=449.58)\n",
    "    \n",
    "    elem_bound, gr_corners, gr_sq_neg, inter_elem_channel, gr_round_4 = shared_zone_geometry()\n",
    "    l = zoneIA(elem_bound, gr_corners, gr_sq_neg, inter_elem_channel, gr_round_4)\n",
    "    z = zoneIIA(elem_bound, gr_corners, gr_sq_neg, inter_elem_channel, gr_round_4)\n",
    "    v = void_cell(elem_bound)\n",
    "    # tres, uno, dos, quatro\n",
    "    t, u, d, q = graphite_triangles(elem_bound) \n",
    "    \n",
    "    main = openmc.RectLattice()\n",
    "    main.pitch = np.array([10.16, 10.16])\n",
    "    N = 45 / 2\n",
    "    main.lower_left = -1 * main.pitch * N\n",
    "    main.universes = [[v, v, v, v, v, v, v, v, v, v, v, v, v, v, v, v, v, d, z, z, z, z, z, z, z, z, z, u, v, v, v, v, v, v, v, v, v, v, v, v, v, v, v, v, v],\n",
    "                      [v, v, v, v, v, v, v, v, v, v, v, v, v, d, z, z, z, z, l, l, l, l, l, l, l, l, l, z, z, z, z, u, v, v, v, v, v, v, v, v, v, v, v, v, v],\n",
    "                      [v, v, v, v, v, v, v, v, v, v, v, d, z, z, l, l, l, l, l, l, l, l, l, l, l, l, l, l, l, l, l, z, z, u, v, v, v, v, v, v, v, v, v, v, v],\n",
    "                      [v, v, v, v, v, v, v, v, v, v, d, z, l, l, l, l, l, l, l, l, l, l, l, l, l, l, l, l, l, l, l, l, l, z, u, v, v, v, v, v, v, v, v, v, v],\n",
    "                      [v, v, v, v, v, v, v, v, v, d, z, l, l, l, l, l, l, l, l, l, l, l, l, l, l, l, l, l, l, l, l, l, l, l, z, u, v, v, v, v, v, v, v, v, v],\n",
    "                      [v, v, v, v, v, v, v, v, d, z, l, l, l, l, l, l, l, l, l, l, l, l, l, l, l, l, l, l, l, l, l, l, l, l, l, z, u, v, v, v, v, v, v, v, v],\n",
    "                      [v, v, v, v, v, v, v, d, z, l, l, l, l, l, l, l, l, l, l, l, l, l, l, l, l, l, l, l, l, l, l, l, l, l, l, l, z, u, v, v, v, v, v, v, v],\n",
    "                      [v, v, v, v, v, v, d, z, l, l, l, l, l, l, l, l, l, l, l, l, l, l, l, l, l, l, l, l, l, l, l, l, l, l, l, l, l, z, u, v, v, v, v, v, v],\n",
    "                      [v, v, v, v, v, d, z, l, l, l, l, l, l, l, l, l, l, l, l, l, l, l, l, l, l, l, l, l, l, l, l, l, l, l, l, l, l, l, z, u, v, v, v, v, v],\n",
    "                      [v, v, v, v, d, z, l, l, l, l, l, l, l, l, l, l, l, l, l, l, l, l, l, l, l, l, l, l, l, l, l, l, l, l, l, l, l, l, l, z, u, v, v, v, v],\n",
    "                      [v, v, v, d, z, l, l, l, l, l, l, l, l, l, l, l, l, l, l, l, l, l, l, l, l, l, l, l, l, l, l, l, l, l, l, l, l, l, l, l, z, u, v, v, v],\n",
    "                      [v, v, d, z, l, l, l, l, l, l, l, l, l, l, l, l, l, l, l, l, l, l, l, l, l, l, l, l, l, l, l, l, l, l, l, l, l, l, l, l, l, z, u, v, v],\n",
    "                      [v, v, z, l, l, l, l, l, l, l, l, l, l, l, l, l, l, l, l, l, l, l, l, l, l, l, l, l, l, l, l, l, l, l, l, l, l, l, l, l, l, l, z, v, v],\n",
    "                      [v, d, z, l, l, l, l, l, l, l, l, l, l, l, l, l, l, l, l, l, l, l, l, l, l, l, l, l, l, l, l, l, l, l, l, l, l, l, l, l, l, l, z, u, v],\n",
    "                      [v, z, l, l, l, l, l, l, l, l, l, l, l, l, l, l, l, l, l, l, l, l, l, l, l, l, l, l, l, l, l, l, l, l, l, l, l, l, l, l, l, l, l, z, v],\n",
    "                      [v, z, l, l, l, l, l, l, l, l, l, l, l, l, l, l, l, l, l, l, l, l, l, l, l, l, l, l, l, l, l, l, l, l, l, l, l, l, l, l, l, l, l, z, v],\n",
    "                      [v, z, l, l, l, l, l, l, l, l, l, l, l, l, l, l, l, l, l, l, l, l, l, l, l, l, l, l, l, l, l, l, l, l, l, l, l, l, l, l, l, l, l, z, v],\n",
    "                      [d, z, l, l, l, l, l, l, l, l, l, l, l, l, l, l, l, l, l, l, l, l, l, l, l, l, l, l, l, l, l, l, l, l, l, l, l, l, l, l, l, l, l, z, u],\n",
    "                      [z, l, l, l, l, l, l, l, l, l, l, l, l, l, l, l, l, l, l, l, l, l, l, l, l, l, l, l, l, l, l, l, l, l, l, l, l, l, l, l, l, l, l, l, z],\n",
    "                      [z, l, l, l, l, l, l, l, l, l, l, l, l, l, l, l, l, l, l, l, l, l, l, l, l, l, l, l, l, l, l, l, l, l, l, l, l, l, l, l, l, l, l, l, z],\n",
    "                      [z, l, l, l, l, l, l, l, l, l, l, l, l, l, l, l, l, l, l, l, l, l, l, l, l, l, l, l, l, l, l, l, l, l, l, l, l, l, l, l, l, l, l, l, z],\n",
    "                      [z, l, l, l, l, l, l, l, l, l, l, l, l, l, l, l, l, l, l, l, l, v, v, v, l, l, l, l, l, l, l, l, l, l, l, l, l, l, l, l, l, l, l, l, z],\n",
    "                      [z, l, l, l, l, l, l, l, l, l, l, l, l, l, l, l, l, l, l, l, l, v, v, v, l, l, l, l, l, l, l, l, l, l, l, l, l, l, l, l, l, l, l, l, z],\n",
    "                      [z, l, l, l, l, l, l, l, l, l, l, l, l, l, l, l, l, l, l, l, l, v, v, v, l, l, l, l, l, l, l, l, l, l, l, l, l, l, l, l, l, l, l, l, z],\n",
    "                      [z, l, l, l, l, l, l, l, l, l, l, l, l, l, l, l, l, l, l, l, l, l, l, l, l, l, l, l, l, l, l, l, l, l, l, l, l, l, l, l, l, l, l, l, z],\n",
    "                      [z, l, l, l, l, l, l, l, l, l, l, l, l, l, l, l, l, l, l, l, l, l, l, l, l, l, l, l, l, l, l, l, l, l, l, l, l, l, l, l, l, l, l, l, z],\n",
    "                      [z, l, l, l, l, l, l, l, l, l, l, l, l, l, l, l, l, l, l, l, l, l, l, l, l, l, l, l, l, l, l, l, l, l, l, l, l, l, l, l, l, l, l, l, z],\n",
    "                      [t, z, l, l, l, l, l, l, l, l, l, l, l, l, l, l, l, l, l, l, l, l, l, l, l, l, l, l, l, l, l, l, l, l, l, l, l, l, l, l, l, l, l, z, q],\n",
    "                      [v, z, l, l, l, l, l, l, l, l, l, l, l, l, l, l, l, l, l, l, l, l, l, l, l, l, l, l, l, l, l, l, l, l, l, l, l, l, l, l, l, l, l, z, v],\n",
    "                      [v, z, l, l, l, l, l, l, l, l, l, l, l, l, l, l, l, l, l, l, l, l, l, l, l, l, l, l, l, l, l, l, l, l, l, l, l, l, l, l, l, l, l, z, v],\n",
    "                      [v, z, l, l, l, l, l, l, l, l, l, l, l, l, l, l, l, l, l, l, l, l, l, l, l, l, l, l, l, l, l, l, l, l, l, l, l, l, l, l, l, l, l, z, v],\n",
    "                      [v, t, z, l, l, l, l, l, l, l, l, l, l, l, l, l, l, l, l, l, l, l, l, l, l, l, l, l, l, l, l, l, l, l, l, l, l, l, l, l, l, l, z, q, v],\n",
    "                      [v, v, z, l, l, l, l, l, l, l, l, l, l, l, l, l, l, l, l, l, l, l, l, l, l, l, l, l, l, l, l, l, l, l, l, l, l, l, l, l, l, l, z, v, v],\n",
    "                      [v, v, t, z, l, l, l, l, l, l, l, l, l, l, l, l, l, l, l, l, l, l, l, l, l, l, l, l, l, l, l, l, l, l, l, l, l, l, l, l, l, z, q, v, v],\n",
    "                      [v, v, v, t, z, l, l, l, l, l, l, l, l, l, l, l, l, l, l, l, l, l, l, l, l, l, l, l, l, l, l, l, l, l, l, l, l, l, l, l, z, q, v, v, v],\n",
    "                      [v, v, v, v, t, z, l, l, l, l, l, l, l, l, l, l, l, l, l, l, l, l, l, l, l, l, l, l, l, l, l, l, l, l, l, l, l, l, l, z, q, v, v, v, v],\n",
    "                      [v, v, v, v, v, t, z, l, l, l, l, l, l, l, l, l, l, l, l, l, l, l, l, l, l, l, l, l, l, l, l, l, l, l, l, l, l, l, z, q, v, v, v, v, v],\n",
    "                      [v, v, v, v, v, v, t, z, l, l, l, l, l, l, l, l, l, l, l, l, l, l, l, l, l, l, l, l, l, l, l, l, l, l, l, l, l, z, q, v, v, v, v, v, v],\n",
    "                      [v, v, v, v, v, v, v, t, z, l, l, l, l, l, l, l, l, l, l, l, l, l, l, l, l, l, l, l, l, l, l, l, l, l, l, l, z, q, v, v, v, v, v, v, v],\n",
    "                      [v, v, v, v, v, v, v, v, t, z, l, l, l, l, l, l, l, l, l, l, l, l, l, l, l, l, l, l, l, l, l, l, l, l, l, z, q, v, v, v, v, v, v, v, v],\n",
    "                      [v, v, v, v, v, v, v, v, v, t, z, l, l, l, l, l, l, l, l, l, l, l, l, l, l, l, l, l, l, l, l, l, l, l, z, q, v, v, v, v, v, v, v, v, v],\n",
    "                      [v, v, v, v, v, v, v, v, v, v, t, z, l, l, l, l, l, l, l, l, l, l, l, l, l, l, l, l, l, l, l, l, l, z, q, v, v, v, v, v, v, v, v, v, v],\n",
    "                      [v, v, v, v, v, v, v, v, v, v, v, t, z, z, l, l, l, l, l, l, l, l, l, l, l, l, l, l, l, l, l, z, z, q, v, v, v, v, v, v, v, v, v, v, v],\n",
    "                      [v, v, v, v, v, v, v, v, v, v, v, v, v, t, z, z, z, z, l, l, l, l, l, l, l, l, l, z, z, z, z, q, v, v, v, v, v, v, v, v, v, v, v, v, v],\n",
    "                      [v, v, v, v, v, v, v, v, v, v, v, v, v, v, v, v, v, t, z, z, z, z, z, z, z, z, z, q, v, v, v, v, v, v, v, v, v, v, v, v, v, v, v, v, v]]\n",
    "    c1 = openmc.Cell(fill=main, region=(+s5 & -s6 & (-s1 | -s2 | -s3 ) & ~s4))\n",
    "    \n",
    "    return c1"
   ]
  },
  {
   "cell_type": "code",
   "execution_count": null,
   "id": "5b19f7f2",
   "metadata": {},
   "outputs": [],
   "source": [
    "def zoneIIB():\n",
    "    # Large elements\n",
    "    large_angular_width = 3.538\n",
    "    positions = np.linspace(0, 315, 8)\n",
    "    \n",
    "    # Small elements\n",
    "    small_angular_width = 0.96\n",
    "    adjacent_angular_offset = 27/40\n",
    "    small_elems_per_octant = 25\n",
    "    ...\n",
    "    \n",
    "    iib = openmc.Universe(universe_id=10, name='zone_iib')\n",
    "    iib.add_cells(...)\n",
    "    \n",
    "    return iib"
   ]
  },
  {
   "cell_type": "code",
   "execution_count": 127,
   "id": "76d7d0a6",
   "metadata": {},
   "outputs": [
    {
     "data": {
      "text/plain": [
       "2.924"
      ]
     },
     "execution_count": 127,
     "metadata": {},
     "output_type": "execute_result"
    }
   ],
   "source": [
    "0.48 + 2.444"
   ]
  },
  {
   "cell_type": "code",
   "execution_count": 125,
   "id": "71f6c1e5",
   "metadata": {},
   "outputs": [
    {
     "data": {
      "text/plain": [
       "array([  0.,  45.,  90., 135., 180., 225., 270., 315.])"
      ]
     },
     "execution_count": 125,
     "metadata": {},
     "output_type": "execute_result"
    }
   ],
   "source": [
    "np.linspace(0, 315, 8)"
   ]
  },
  {
   "cell_type": "code",
   "execution_count": 129,
   "id": "e9300431",
   "metadata": {},
   "outputs": [
    {
     "data": {
      "text/plain": [
       "3.538"
      ]
     },
     "execution_count": 129,
     "metadata": {},
     "output_type": "execute_result"
    }
   ],
   "source": [
    "1.769 - -1.769"
   ]
  },
  {
   "cell_type": "code",
   "execution_count": 98,
   "id": "b35e6565",
   "metadata": {},
   "outputs": [
    {
     "data": {
      "text/plain": [
       "<matplotlib.image.AxesImage at 0x7f6481a5b9d0>"
      ]
     },
     "execution_count": 98,
     "metadata": {},
     "output_type": "execute_result"
    },
    {
     "data": {
      "image/png": "[encoded data removed]",
      "text/plain": [
       "<Figure size 258.065x259.74 with 1 Axes>"
      ]
     },
     "metadata": {},
     "output_type": "display_data"
    }
   ],
   "source": [
    "cr.fill.universes[0,0].plot(width=(20,20), colors=colormap, color_by='material')"
   ]
  },
  {
   "cell_type": "code",
   "execution_count": 99,
   "id": "efc054f1",
   "metadata": {},
   "outputs": [],
   "source": [
    "s3100 = openmc.model.IsogonalOctagon(center=(0.0,0.0), r1=208.28, r2=222.71)\n",
    "s3103 = openmc.model.IsogonalOctagon(center=(0.0,0.0), r1=218.44, r2=215.53)\n",
    "s3104 = openmc.model.IsogonalOctagon(center=(0.0,0.0), r1=228.60, r2=193.97)\n",
    "\n",
    "s3003 = openmc.model.rectangular_prism(15.24*2, 15.24*2)"
   ]
  },
  {
   "cell_type": "code",
   "execution_count": 40,
   "id": "64713e35",
   "metadata": {},
   "outputs": [
    {
     "name": "stderr",
     "output_type": "stream",
     "text": [
      "/home/ooblack/projects/openmc/openmc/mixin.py:70: IDWarning: Another UniverseBase instance already exists with id=5.\n",
      "  warn(msg, IDWarning)\n",
      "/home/ooblack/projects/openmc/openmc/mixin.py:70: IDWarning: Another UniverseBase instance already exists with id=3.\n",
      "  warn(msg, IDWarning)\n",
      "/home/ooblack/projects/openmc/openmc/mixin.py:70: IDWarning: Another UniverseBase instance already exists with id=4.\n",
      "  warn(msg, IDWarning)\n"
     ]
    }
   ],
   "source": [
    "cr = cr_lattice()"
   ]
  },
  {
   "cell_type": "code",
   "execution_count": 41,
   "id": "abe01c43",
   "metadata": {},
   "outputs": [
    {
     "data": {
      "text/plain": [
       "<matplotlib.image.AxesImage at 0x7f23c21b9ea0>"
      ]
     },
     "execution_count": 41,
     "metadata": {},
     "output_type": "execute_result"
    },
    {
     "data": {
      "image/png": "[encoded data removed]",
      "text/plain": [
       "<Figure size 1290.32x1298.7 with 1 Axes>"
      ]
     },
     "metadata": {},
     "output_type": "display_data"
    }
   ],
   "source": [
    "test_universe = openmc.Universe()\n",
    "test_universe.add_cell(cr)\n",
    "\n",
    "test_universe.plot(width=(40,40),\n",
    "        basis='xy',\n",
    "        colors=colormap,\n",
    "        origin=(0.,0.,151),\n",
    "        color_by='material',\n",
    "        pixels=(1000,1000))"
   ]
  },
  {
   "cell_type": "code",
   "execution_count": 13,
   "id": "aacbf15b",
   "metadata": {},
   "outputs": [],
   "source": [
    "test_universe = openmc.Universe()\n",
    "test_universe.add_cells([cr])\n",
    "geo = openmc.Geometry()\n",
    "geo.root_universe = test_universe\n",
    "geo.export_to_xml()"
   ]
  },
  {
   "cell_type": "code",
   "execution_count": 47,
   "id": "cca24036",
   "metadata": {},
   "outputs": [
    {
     "data": {
      "text/plain": [
       "0.96"
      ]
     },
     "execution_count": 47,
     "metadata": {},
     "output_type": "execute_result"
    }
   ],
   "source": [
    "3.404 - 2.444"
   ]
  },
  {
   "cell_type": "code",
   "execution_count": 48,
   "id": "fc7eebb7",
   "metadata": {},
   "outputs": [
    {
     "data": {
      "text/plain": [
       "0.96"
      ]
     },
     "execution_count": 48,
     "metadata": {},
     "output_type": "execute_result"
    }
   ],
   "source": [
    "5.039 - 4.079"
   ]
  },
  {
   "cell_type": "code",
   "execution_count": 12,
   "id": "54723d1a",
   "metadata": {},
   "outputs": [],
   "source": [
    "plots = openmc.Plots()\n",
    "\n",
    "plot = openmc.Plot()\n",
    "plot.origin=(0, 0, 200.0)\n",
    "plot.width=(40, 40)\n",
    "plot.pixels=(1000,1000)\n",
    "plot.color_by='material'\n",
    "plot.colors=colormap\n",
    "plot.basis='xy'\n",
    "plots.append(plot)\n",
    "\n",
    "plots.export_to_xml()"
   ]
  },
  {
   "cell_type": "code",
   "execution_count": 42,
   "id": "512afedc",
   "metadata": {},
   "outputs": [
    {
     "name": "stderr",
     "output_type": "stream",
     "text": [
      "/home/ooblack/projects/openmc/openmc/mixin.py:70: IDWarning: Another UniverseBase instance already exists with id=1.\n",
      "  warn(msg, IDWarning)\n",
      "/home/ooblack/projects/openmc/openmc/mixin.py:70: IDWarning: Another UniverseBase instance already exists with id=2.\n",
      "  warn(msg, IDWarning)\n",
      "/home/ooblack/projects/openmc/openmc/mixin.py:70: IDWarning: Another UniverseBase instance already exists with id=5.\n",
      "  warn(msg, IDWarning)\n",
      "/home/ooblack/projects/openmc/openmc/mixin.py:70: IDWarning: Another UniverseBase instance already exists with id=6.\n",
      "  warn(msg, IDWarning)\n",
      "/home/ooblack/projects/openmc/openmc/mixin.py:70: IDWarning: Another UniverseBase instance already exists with id=7.\n",
      "  warn(msg, IDWarning)\n",
      "/home/ooblack/projects/openmc/openmc/mixin.py:70: IDWarning: Another UniverseBase instance already exists with id=8.\n",
      "  warn(msg, IDWarning)\n",
      "/home/ooblack/projects/openmc/openmc/mixin.py:70: IDWarning: Another UniverseBase instance already exists with id=9.\n",
      "  warn(msg, IDWarning)\n"
     ]
    }
   ],
   "source": [
    "main = main_lattice()"
   ]
  },
  {
   "cell_type": "code",
   "execution_count": 43,
   "id": "d31607ac",
   "metadata": {},
   "outputs": [],
   "source": [
    "test_universe = openmc.Universe()\n",
    "test_universe.add_cells([main, cr])\n",
    "geo = openmc.Geometry()\n",
    "geo.root_universe = test_universe\n",
    "geo.export_to_xml()"
   ]
  },
  {
   "cell_type": "code",
   "execution_count": 44,
   "id": "604b537c",
   "metadata": {},
   "outputs": [],
   "source": [
    "plots = openmc.Plots()\n",
    "\n",
    "plot = openmc.Plot()\n",
    "plot.origin=(0, 0, 200.0)\n",
    "plot.width=(500, 500)\n",
    "plot.pixels=(10000,10000)\n",
    "plot.color_by='material'\n",
    "plot.colors=colormap\n",
    "plot.basis='xy'\n",
    "plots.append(plot)\n",
    "\n",
    "plots.export_to_xml()"
   ]
  },
  {
   "cell_type": "code",
   "execution_count": 38,
   "id": "4a47cb84",
   "metadata": {},
   "outputs": [
    {
     "data": {
      "text/plain": [
       "<matplotlib.image.AxesImage at 0x7f64839dcac0>"
      ]
     },
     "execution_count": 38,
     "metadata": {},
     "output_type": "execute_result"
    },
    {
     "data": {
      "image/png": "[encoded data removed]",
      "text/plain": [
       "<Figure size 1290.32x1298.7 with 1 Axes>"
      ]
     },
     "metadata": {},
     "output_type": "display_data"
    }
   ],
   "source": [
    "test_universe.plot(width=(500,600),\n",
    "        basis='xz',\n",
    "        colors=colormap,\n",
    "        origin=(0.,0.,200),\n",
    "        color_by='material',\n",
    "        pixels=(1000,1000))"
   ]
  },
  {
   "cell_type": "code",
   "execution_count": 12,
   "id": "3c61c297",
   "metadata": {},
   "outputs": [
    {
     "name": "stderr",
     "output_type": "stream",
     "text": [
      "/home/ooblack/projects/openmc/openmc/mixin.py:70: IDWarning: Another UniverseBase instance already exists with id=6.\n",
      "  warn(msg, IDWarning)\n",
      "/home/ooblack/projects/openmc/openmc/mixin.py:70: IDWarning: Another UniverseBase instance already exists with id=7.\n",
      "  warn(msg, IDWarning)\n",
      "/home/ooblack/projects/openmc/openmc/mixin.py:70: IDWarning: Another UniverseBase instance already exists with id=8.\n",
      "  warn(msg, IDWarning)\n",
      "/home/ooblack/projects/openmc/openmc/mixin.py:70: IDWarning: Another UniverseBase instance already exists with id=9.\n",
      "  warn(msg, IDWarning)\n"
     ]
    }
   ],
   "source": [
    "tris = graphite_triangles()"
   ]
  },
  {
   "cell_type": "code",
   "execution_count": 13,
   "id": "6308724c",
   "metadata": {},
   "outputs": [
    {
     "data": {
      "text/plain": [
       "[Universe\n",
       " \tID             =\t6\n",
       " \tName           =\tbottom_left_triangle\n",
       " \tGeom           =\tCSG\n",
       " \tCells          =\t[17, 18],\n",
       " Universe\n",
       " \tID             =\t7\n",
       " \tName           =\ttop_right_triangle\n",
       " \tGeom           =\tCSG\n",
       " \tCells          =\t[19, 20],\n",
       " Universe\n",
       " \tID             =\t8\n",
       " \tName           =\ttop_left_triangle\n",
       " \tGeom           =\tCSG\n",
       " \tCells          =\t[21, 22],\n",
       " Universe\n",
       " \tID             =\t9\n",
       " \tName           =\tbottom_right_triangle\n",
       " \tGeom           =\tCSG\n",
       " \tCells          =\t[23, 24]]"
      ]
     },
     "execution_count": 13,
     "metadata": {},
     "output_type": "execute_result"
    }
   ],
   "source": [
    "tris"
   ]
  },
  {
   "cell_type": "code",
   "execution_count": 18,
   "id": "06015259",
   "metadata": {},
   "outputs": [
    {
     "data": {
      "text/plain": [
       "<matplotlib.image.AxesImage at 0x7f4845e8e170>"
      ]
     },
     "execution_count": 18,
     "metadata": {},
     "output_type": "execute_result"
    },
    {
     "data": {
      "image/png": "[encoded data removed]",
      "text/plain": [
       "<Figure size 1290.32x1298.7 with 1 Axes>"
      ]
     },
     "metadata": {},
     "output_type": "display_data"
    }
   ],
   "source": [
    "tris[3].plot(width=(20,20),\n",
    "        basis='xy',\n",
    "        colors=colormap,\n",
    "        origin=(0.,0.,200),\n",
    "        color_by='material',\n",
    "        pixels=(1000,1000))"
   ]
  },
  {
   "cell_type": "code",
   "execution_count": 15,
   "id": "a1156e39",
   "metadata": {},
   "outputs": [],
   "source": []
  },
  {
   "cell_type": "code",
   "execution_count": 16,
   "id": "91709c47",
   "metadata": {},
   "outputs": [],
   "source": []
  },
  {
   "cell_type": "code",
   "execution_count": 39,
   "id": "8faef8b9",
   "metadata": {},
   "outputs": [
    {
     "name": "stderr",
     "output_type": "stream",
     "text": [
      "/home/ooblack/projects/openmc/openmc/mixin.py:70: IDWarning: Another UniverseBase instance already exists with id=3.\n",
      "  warn(msg, IDWarning)\n",
      "/home/ooblack/projects/openmc/openmc/mixin.py:70: IDWarning: Another UniverseBase instance already exists with id=4.\n",
      "  warn(msg, IDWarning)\n"
     ]
    }
   ],
   "source": [
    "fuel_hole, moderator_block, fuel_outer = shared_cr_geometry()          \n",
    "\n",
    "cr = control_rod(fuel_hole, moderator_block, fuel_outer)\n",
    "crc = control_rod_channel(fuel_hole, moderator_block, fuel_outer)"
   ]
  },
  {
   "cell_type": "code",
   "execution_count": 43,
   "id": "5c3858fe",
   "metadata": {},
   "outputs": [
    {
     "data": {
      "text/plain": [
       "<matplotlib.image.AxesImage at 0x7f64837fbc40>"
      ]
     },
     "execution_count": 43,
     "metadata": {},
     "output_type": "execute_result"
    },
    {
     "data": {
      "image/png": "[encoded data removed]",
      "text/plain": [
       "<Figure size 1290.32x1298.7 with 1 Axes>"
      ]
     },
     "metadata": {},
     "output_type": "display_data"
    }
   ],
   "source": [
    "crc.plot(width=(20,20),\n",
    "        basis='xz',\n",
    "        colors=colormap,\n",
    "        origin=(0.,0.,200),\n",
    "        color_by='material',\n",
    "        pixels=(1000,1000))"
   ]
  },
  {
   "cell_type": "code",
   "execution_count": 9,
   "id": "95623c88",
   "metadata": {},
   "outputs": [],
   "source": [
    "iia = zoneIIA()"
   ]
  },
  {
   "cell_type": "code",
   "execution_count": 10,
   "id": "30e9d8d4",
   "metadata": {},
   "outputs": [],
   "source": [
    "ia = zoneIA()"
   ]
  },
  {
   "cell_type": "code",
   "execution_count": 25,
   "id": "5280ef4c",
   "metadata": {},
   "outputs": [
    {
     "data": {
      "text/plain": [
       "Cell\n",
       "\tID             =\t5\n",
       "\tName           =\tia_moderator_main\n",
       "\tFill           =\tMaterial 1\n",
       "\tRegion         =\t(((19 5 -6 7 -8) | (1 -2 3 -4 (-9 | -10 | -11 | -12 | -13 | -14 | -15 | -16))) 22.86 -419.1)\n",
       "\tRotation       =\tNone\n",
       "\tTemperature    =\tNone\n",
       "\tTranslation    =\tNone\n",
       "\tVolume         =\tNone"
      ]
     },
     "execution_count": 25,
     "metadata": {},
     "output_type": "execute_result"
    }
   ],
   "source": [
    "ia.cells[5]"
   ]
  },
  {
   "cell_type": "code",
   "execution_count": 17,
   "id": "cff88a9c",
   "metadata": {},
   "outputs": [
    {
     "data": {
      "text/plain": [
       "OrderedDict([(49,\n",
       "              Surface\n",
       "              \tID             =\t49\n",
       "              \tName           =\t\n",
       "              \tType           =\tz-cylinder\n",
       "              \tBoundary       =\ttransmission\n",
       "              \tCoefficients   \n",
       "              x0              =\t0.0\n",
       "              y0              =\t0.0\n",
       "              r               =\t1.71069)])"
      ]
     },
     "execution_count": 17,
     "metadata": {},
     "output_type": "execute_result"
    }
   ],
   "source": [
    "ia_fuel_inner_1.region.get_surfaces()"
   ]
  },
  {
   "cell_type": "code",
   "execution_count": 14,
   "id": "0b258202",
   "metadata": {},
   "outputs": [
    {
     "data": {
      "text/plain": [
       "<matplotlib.image.AxesImage at 0x7fc72798b6d0>"
      ]
     },
     "execution_count": 14,
     "metadata": {},
     "output_type": "execute_result"
    },
    {
     "data": {
      "image/png": "[encoded data removed]",
      "text/plain": [
       "<Figure size 1290.32x1298.7 with 1 Axes>"
      ]
     },
     "metadata": {},
     "output_type": "display_data"
    }
   ],
   "source": [
    "iia.plot(width=(20,20),\n",
    "        basis='xz',\n",
    "        colors=colormap,\n",
    "        origin=(0.,0.,440),\n",
    "        color_by='material',\n",
    "        pixels=(1000,1000))"
   ]
  },
  {
   "cell_type": "code",
   "execution_count": 9,
   "id": "612483c3",
   "metadata": {},
   "outputs": [],
   "source": [
    "from copy import deepcopy\n",
    "import numpy as np\n",
    "\n",
    "\n",
    "pin_bound = openmc.rectangular_prism(5.08*2, 5.08*2) # Pin outer boundary\n",
    "\n",
    "pin_gr_sq = openmc.rectangular_prism(4.953*2, 4.953*2) # Graphite square\n",
    "\n",
    "# params for main pin section for both I-A and II-A\n",
    "r_d = 0.66802\n",
    "l1 = 4.28498\n",
    "l2 = 4.53898\n",
    "l3 = 5.62102\n",
    "lu = openmc.ZCylinder(-l1, l2, r_d)\n",
    "rb = openmc.ZCylinder(l1, -l2, r_d)\n",
    "lb = openmc.ZCylinder(-l2, -l1, r_d)\n",
    "ru = openmc.ZCylinder(l2, l1, r_d)\n",
    "lu_adj = openmc.ZCylinder(-l1, -l3, r_d)\n",
    "rb_adj = openmc.ZCylinder(l1, l3, r_d)\n",
    "ru_adj = openmc.ZCylinder(-l3, l1, r_d)\n",
    "lb_adj = openmc.ZCylinder(l3, -l1, r_d)\n",
    "\n",
    "pin_gr_sq_surfs = pin_gr_sq.get_surfaces()\n",
    "pin_gr_sq_keys = list(pin_gr_sq_surfs.keys())\n",
    "pin_gr_sq_minx = pin_gr_sq_surfs[pin_gr_sq_keys[0]]\n",
    "pin_gr_sq_maxx = pin_gr_sq_surfs[pin_gr_sq_keys[1]]\n",
    "pin_gr_sq_miny = pin_gr_sq_surfs[pin_gr_sq_keys[2]]\n",
    "pin_gr_sq_maxy = pin_gr_sq_surfs[pin_gr_sq_keys[3]]\n",
    "\n",
    "pin_gr_sq_pos = -pin_gr_sq_minx | +pin_gr_sq_maxx | -pin_gr_sq_miny | +pin_gr_sq_maxy\n",
    "pin_gr_sq_neg = pin_gr_sq\n",
    "\n",
    "pin_corners = pin_bound & (-lu |\n",
    "                           -rb |\n",
    "                           -lb |\n",
    "                           -ru |\n",
    "                           -lu_adj |\n",
    "                           -rb_adj |\n",
    "                           -ru_adj |\n",
    "                           -lb_adj)"
   ]
  },
  {
   "cell_type": "code",
   "execution_count": 10,
   "id": "6f0f4ff9",
   "metadata": {},
   "outputs": [],
   "source": [
    "# Zone I-A\n",
    "\n",
    "### REWRITE STRATEGEY\n",
    "# 1. make cells\n",
    "# 2. translate their regions\n",
    "# 3. bound the regions with the appropriate bounding planes\n",
    "\n",
    "\n",
    "# I-A 1 (lower 1)\n",
    "ia_gr_round_1 = openmc.ZCylinder(r=4.953)\n",
    "ia_fuel_hole = openmc.ZCylinder(r=1.71069)\n",
    "ia_fuel_inner_1 = openmc.Cell(fill=fuel, region=(-ia_fuel_hole))\n",
    "ia_moderator_1 = openmc.Cell(fill=moder, region=(+ia_fuel_hole &\n",
    "                                                 -ia_gr_round_1))\n",
    "ia_fuel_outer_1 = openmc.Cell(fill=fuel, region=(+ia_gr_round_1 &\n",
    "                                                 pin_bound))\n",
    "ia1 = (ia_fuel_inner_1, ia_moderator_1, ia_fuel_outer_1)\n",
    "\n",
    "# I-A  main (lower 2)\n",
    "ia_fuel_inner_main = ia_fuel_inner_1.clone(clone_materials=False)\n",
    "ia_moderator_main = openmc.Cell(fill=moder, region=(+ia_fuel_hole &\n",
    "                                      pin_gr_sq_neg |\n",
    "                                      pin_corners))\n",
    "ia_fuel_outer_main = openmc.Cell(fill=fuel, region=(pin_gr_sq_pos &\n",
    "                                     pin_bound &\n",
    "                                     +lu &\n",
    "                                     +rb &\n",
    "                                     +lb &\n",
    "                                     +ru &\n",
    "                                     +lu_adj &\n",
    "                                     +rb_adj &\n",
    "                                     +ru_adj &\n",
    "                                     +lb_adj))\n",
    "iam = (ia_fuel_inner_main, ia_moderator_main, ia_fuel_outer_main)\n",
    "\n",
    "# I-A 2 (upper 1)\n",
    "ia_fuel_inner_2 = ia_fuel_inner_1.clone(clone_materials=False)\n",
    "ia_moderator_2 = ia_moderator_1.clone(clone_materials=False)\n",
    "ia_fuel_outer_2 = ia_fuel_outer_1.clone(clone_materials=False)\n",
    "ia2 = (ia_fuel_inner_2, ia_moderator_2, ia_fuel_outer_2)\n",
    "                              \n",
    "# I-A 3 (upper 2)\n",
    "h = 12.66\n",
    "theta = np.arctan(4.953 / h)\n",
    "r2 = (1 / np.cos(theta))**2 - 1\n",
    "cone_i = openmc.ZCone(z0=h, r2=r2)\n",
    "ia_fuel_inner_3 = ia_fuel_inner_1.clone(clone_materials=False)\n",
    "ia_moderator_3 = openmc.Cell(fill=moder, region=(+ia_fuel_hole &\n",
    "                                                 -cone_i))\n",
    "ia_fuel_outer_3 = openmc.Cell(fill=fuel, region=(+cone_i & \n",
    "                                                 pin_bound))\n",
    "ia3 = (ia_fuel_inner_3, ia_moderator_3, ia_fuel_outer_3)                             \n",
    "\n",
    "# I-A and II-A 4 (upper 3)\n",
    "ia_gr_round_4 = openmc.ZCylinder(r=2.2225)\n",
    "ia_hast = openmc.Cell(fill=hast, region=(-ia_fuel_hole))\n",
    "ia_moderator_4 = openmc.Cell(fill=moder, region=(+ia_fuel_hole &\n",
    "                                                 -ia_gr_round_4))\n",
    "ia_fuel_outer_4 = openmc.Cell(fill=fuel, region=(+ia_gr_round_4 &\n",
    "                                                 pin_bound))\n",
    "ia4 = (ia_hast, ia_moderator_4, ia_fuel_outer_4)\n",
    "\n",
    "\n",
    "# II-A main (lower 1)\n",
    "iia_fuel_hole_main = openmc.ZCylinder(r=3.302) # Hole with fuel salt - Fig 3.5, Roberton 1971 (3.27787 - p.47)\n",
    "iia_fuel_inner_main = openmc.Cell(fill=fuel, region=(-iia_fuel_hole_main))\n",
    "iia_moderator_main = openmc.Cell(fill=moder, region=(+iia_fuel_hole_main &\n",
    "                                      pin_gr_sq_neg |\n",
    "                                      pin_corners))\n",
    "iia_fuel_outer_main = ia_fuel_outer_main.clone(clone_materials=False)\n",
    "iiam = (iia_fuel_inner_main, iia_moderator_main, iia_fuel_outer_main)\n",
    "\n",
    "# II-A 2 (upper 1)\n",
    "iia_fuel_hole_2 = openmc.ZCylinder(r=0.635)\n",
    "iia_fuel_inner_2 = openmc.Cell(fill=fuel, region=(-iia_fuel_hole_2))\n",
    "iia_moderator_2 = openmc.Cell(fill=moder, region=(+iia_fuel_hole_2 &\n",
    "                                      pin_gr_sq_neg |\n",
    "                                      pin_corners))\n",
    "iia_fuel_outer_2 = ia_fuel_outer_main.clone(clone_materials=False)\n",
    "iia2 = (iia_fuel_inner_2, iia_moderator_2, iia_fuel_outer_2)\n",
    "\n",
    "# II-A 3 (upper 2)\n",
    "iia_gr_round_3 = openmc.ZCylinder(r=3.65125)\n",
    "iia_fuel_inner_3 = iia_fuel_inner_2.clone(clone_materials=False)\n",
    "iia_moderator_3 = openmc.Cell(fill=moder, region=(+iia_fuel_hole_2 &\n",
    "                                                  -iia_gr_round_3))\n",
    "iia_fuel_outer_3 = openmc.Cell(fill=fuel, region=(+iia_gr_round_3 &\n",
    "                                                  pin_bound))\n",
    "iia3 = (iia_fuel_inner_3, iia_moderator_3, iia_fuel_outer_3)\n",
    "\n",
    "# II-A 4 (upper 3)\n",
    "h = 6.5\n",
    "theta = np.arctan(3.65125 / h)\n",
    "r2 = (1 / np.cos(theta))**2 - 1\n",
    "cone_ii = openmc.ZCone(z0=h, r2=r2, name='test_2_a')\n",
    "iia_moderator_4 = openmc.Cell(fill=moder, region=(-cone_ii))\n",
    "iia_fuel_outer_4 = openmc.Cell(fill=fuel, region=(+cone_ii &\n",
    "                                                  pin_bound))\n",
    "iia4 = (iia_moderator_4, iia_fuel_outer_4)\n",
    "\n",
    "# II-A 5 (upper 4)\n",
    "iia_moderator_5 = openmc.Cell(fill=moder, region=(-ia_gr_round_4), name='test_1_a')\n",
    "iia_fuel_outer_5 = openmc.Cell(fill=fuel, region=(+ia_gr_round_4 &\n",
    "                                                 pin_bound))\n",
    "iia5 = (iia_moderator_5, iia_fuel_outer_5)\n",
    "\n",
    "\n",
    "            # ia   iia\n",
    "pin_cells = [(ia1, iiam),\n",
    "             (iam, iia2),\n",
    "             (ia2, iia3),\n",
    "             (ia3, iia4),\n",
    "             (ia4, iia5)]\n",
    "pin_levels = [(0.0, 0.0),\n",
    "              (22.86, 434.34),\n",
    "              (419.10, 436.88),\n",
    "              (438.15, 439.42),\n",
    "              (445.135, 441.96),\n",
    "              (449.58, 449.58)]\n",
    "#bounding surfaces\n",
    "level_bounds = []\n",
    "for levels in pin_levels:\n",
    "    ia_bound = openmc.ZPlane(z0=levels[0])\n",
    "    iia_bound = openmc.ZPlane(z0=levels[1])\n",
    "    level_bounds.append((ia_bound, iia_bound))\n",
    "ia_cell_list = []\n",
    "iia_cell_list = []"
   ]
  },
  {
   "cell_type": "code",
   "execution_count": 15,
   "id": "a5166f99",
   "metadata": {},
   "outputs": [],
   "source": [
    "def append_cell(i, cell, level, lower_bound, upper_bound, translate=True):\n",
    "    if translate:\n",
    "        cell.region = cell.region.translate((0.0,0.0,level), inplace=True)\n",
    "    cell.region = cell.region & +lower_bound & -upper_bound\n",
    "    return cell\n",
    "    \n",
    "for i, cells in enumerate(pin_cells):\n",
    "    ia_cells, iia_cells = cells\n",
    "    levels = pin_levels[i]\n",
    "    lower_bounds = level_bounds[i]\n",
    "    upper_bounds = level_bounds[i+1]\n",
    "    for j, ia_cell in enumerate(ia_cells):\n",
    "        translate = True\n",
    "        if i == 3 and j == 1:\n",
    "            translate = False\n",
    "        ia_cell_list.append(append_cell(i, ia_cell, \n",
    "                                        levels[0], \n",
    "                                        lower_bounds[0], \n",
    "                                        upper_bounds[0],\n",
    "                                        translate=translate))\n",
    "    for j, iia_cell in enumerate(iia_cells):\n",
    "        translate = True\n",
    "        if i == 3 and j == 1:\n",
    "            translate = False\n",
    "        iia_cell_list.append(append_cell(i, iia_cell, \n",
    "                                         levels[1], \n",
    "                                         lower_bounds[1], \n",
    "                                         upper_bounds[1],\n",
    "                                         translate=translate))\n",
    "        \n",
    "ia = openmc.Universe(cells=ia_cell_list)\n",
    "iia = openmc.Universe(cells=iia_cell_list)"
   ]
  },
  {
   "cell_type": "code",
   "execution_count": 10,
   "id": "d50e3a6a",
   "metadata": {},
   "outputs": [],
   "source": [
    "iia = zoneIIA()"
   ]
  },
  {
   "cell_type": "code",
   "execution_count": 16,
   "id": "a0f5f2d8",
   "metadata": {},
   "outputs": [
    {
     "data": {
      "text/plain": [
       "<matplotlib.image.AxesImage at 0x7ff780b8e4d0>"
      ]
     },
     "execution_count": 16,
     "metadata": {},
     "output_type": "execute_result"
    },
    {
     "data": {
      "image/png": "[encoded data removed]",
      "text/plain": [
       "<Figure size 516.129x519.481 with 1 Axes>"
      ]
     },
     "metadata": {},
     "output_type": "display_data"
    }
   ],
   "source": [
    "iia.plot(width=(20,20),\n",
    "        basis='xy',\n",
    "        colors=colormap,\n",
    "        origin=(0.,0.,200),\n",
    "        color_by='material',\n",
    "        pixels=(400,400))"
   ]
  },
  {
   "cell_type": "code",
   "execution_count": 7,
   "id": "20c38640",
   "metadata": {},
   "outputs": [
    {
     "data": {
      "text/plain": [
       "OrderedDict([(18,\n",
       "              Surface\n",
       "              \tID             =\t18\n",
       "              \tName           =\t\n",
       "              \tType           =\tz-cylinder\n",
       "              \tBoundary       =\ttransmission\n",
       "              \tCoefficients   \n",
       "              x0              =\t0.0\n",
       "              y0              =\t0.0\n",
       "              r               =\t1.71069),\n",
       "             (28,\n",
       "              Surface\n",
       "              \tID             =\t28\n",
       "              \tName           =\t\n",
       "              \tType           =\tz-cone\n",
       "              \tBoundary       =\ttransmission\n",
       "              \tCoefficients   \n",
       "              x0              =\t0.0\n",
       "              y0              =\t0.0\n",
       "              z0              =\t12.66\n",
       "              r2              =\t0.1530626558253405)])"
      ]
     },
     "execution_count": 7,
     "metadata": {},
     "output_type": "execute_result"
    }
   ],
   "source": [
    "ia3[1].region.get_surfaces()"
   ]
  },
  {
   "cell_type": "code",
   "execution_count": 8,
   "id": "f0950b62",
   "metadata": {},
   "outputs": [],
   "source": [
    "geo = openmc.Geometry()\n",
    "geo.root_universe = ia\n",
    "geo.export_to_xml()"
   ]
  },
  {
   "cell_type": "code",
   "execution_count": 9,
   "id": "99f1d96d",
   "metadata": {},
   "outputs": [],
   "source": [
    "geo = openmc.Geometry()\n",
    "geo.root_universe = iia\n",
    "geo.export_to_xml()"
   ]
  },
  {
   "cell_type": "code",
   "execution_count": 59,
   "id": "db9f72c9",
   "metadata": {},
   "outputs": [
    {
     "data": {
      "text/plain": [
       "OrderedDict([(491,\n",
       "              Surface\n",
       "              \tID             =\t491\n",
       "              \tName           =\t\n",
       "              \tType           =\tz-cylinder\n",
       "              \tBoundary       =\ttransmission\n",
       "              \tCoefficients   \n",
       "              x0              =\t0.0\n",
       "              y0              =\t0.0\n",
       "              r               =\t1.71069),\n",
       "             (415,\n",
       "              Surface\n",
       "              \tID             =\t415\n",
       "              \tName           =\tminimum x\n",
       "              \tType           =\tx-plane\n",
       "              \tBoundary       =\ttransmission\n",
       "              \tCoefficients   \n",
       "              x0              =\t-4.953),\n",
       "             (416,\n",
       "              Surface\n",
       "              \tID             =\t416\n",
       "              \tName           =\tmaximum x\n",
       "              \tType           =\tx-plane\n",
       "              \tBoundary       =\ttransmission\n",
       "              \tCoefficients   \n",
       "              x0              =\t4.953),\n",
       "             (417,\n",
       "              Surface\n",
       "              \tID             =\t417\n",
       "              \tName           =\tminimum y\n",
       "              \tType           =\ty-plane\n",
       "              \tBoundary       =\ttransmission\n",
       "              \tCoefficients   \n",
       "              y0              =\t-4.953),\n",
       "             (418,\n",
       "              Surface\n",
       "              \tID             =\t418\n",
       "              \tName           =\tmaximum y\n",
       "              \tType           =\ty-plane\n",
       "              \tBoundary       =\ttransmission\n",
       "              \tCoefficients   \n",
       "              y0              =\t4.953),\n",
       "             (411,\n",
       "              Surface\n",
       "              \tID             =\t411\n",
       "              \tName           =\tminimum x\n",
       "              \tType           =\tx-plane\n",
       "              \tBoundary       =\ttransmission\n",
       "              \tCoefficients   \n",
       "              x0              =\t-5.08),\n",
       "             (412,\n",
       "              Surface\n",
       "              \tID             =\t412\n",
       "              \tName           =\tmaximum x\n",
       "              \tType           =\tx-plane\n",
       "              \tBoundary       =\ttransmission\n",
       "              \tCoefficients   \n",
       "              x0              =\t5.08),\n",
       "             (413,\n",
       "              Surface\n",
       "              \tID             =\t413\n",
       "              \tName           =\tminimum y\n",
       "              \tType           =\ty-plane\n",
       "              \tBoundary       =\ttransmission\n",
       "              \tCoefficients   \n",
       "              y0              =\t-5.08),\n",
       "             (414,\n",
       "              Surface\n",
       "              \tID             =\t414\n",
       "              \tName           =\tmaximum y\n",
       "              \tType           =\ty-plane\n",
       "              \tBoundary       =\ttransmission\n",
       "              \tCoefficients   \n",
       "              y0              =\t5.08),\n",
       "             (419,\n",
       "              Surface\n",
       "              \tID             =\t419\n",
       "              \tName           =\t\n",
       "              \tType           =\tz-cylinder\n",
       "              \tBoundary       =\ttransmission\n",
       "              \tCoefficients   \n",
       "              x0              =\t-4.28498\n",
       "              y0              =\t4.53898\n",
       "              r               =\t0.66802),\n",
       "             (420,\n",
       "              Surface\n",
       "              \tID             =\t420\n",
       "              \tName           =\t\n",
       "              \tType           =\tz-cylinder\n",
       "              \tBoundary       =\ttransmission\n",
       "              \tCoefficients   \n",
       "              x0              =\t4.28498\n",
       "              y0              =\t-4.53898\n",
       "              r               =\t0.66802),\n",
       "             (421,\n",
       "              Surface\n",
       "              \tID             =\t421\n",
       "              \tName           =\t\n",
       "              \tType           =\tz-cylinder\n",
       "              \tBoundary       =\ttransmission\n",
       "              \tCoefficients   \n",
       "              x0              =\t-4.53898\n",
       "              y0              =\t-4.28498\n",
       "              r               =\t0.66802),\n",
       "             (422,\n",
       "              Surface\n",
       "              \tID             =\t422\n",
       "              \tName           =\t\n",
       "              \tType           =\tz-cylinder\n",
       "              \tBoundary       =\ttransmission\n",
       "              \tCoefficients   \n",
       "              x0              =\t4.53898\n",
       "              y0              =\t4.28498\n",
       "              r               =\t0.66802),\n",
       "             (423,\n",
       "              Surface\n",
       "              \tID             =\t423\n",
       "              \tName           =\t\n",
       "              \tType           =\tz-cylinder\n",
       "              \tBoundary       =\ttransmission\n",
       "              \tCoefficients   \n",
       "              x0              =\t-4.28498\n",
       "              y0              =\t-5.62102\n",
       "              r               =\t0.66802),\n",
       "             (424,\n",
       "              Surface\n",
       "              \tID             =\t424\n",
       "              \tName           =\t\n",
       "              \tType           =\tz-cylinder\n",
       "              \tBoundary       =\ttransmission\n",
       "              \tCoefficients   \n",
       "              x0              =\t4.28498\n",
       "              y0              =\t5.62102\n",
       "              r               =\t0.66802),\n",
       "             (425,\n",
       "              Surface\n",
       "              \tID             =\t425\n",
       "              \tName           =\t\n",
       "              \tType           =\tz-cylinder\n",
       "              \tBoundary       =\ttransmission\n",
       "              \tCoefficients   \n",
       "              x0              =\t-5.62102\n",
       "              y0              =\t4.28498\n",
       "              r               =\t0.66802),\n",
       "             (426,\n",
       "              Surface\n",
       "              \tID             =\t426\n",
       "              \tName           =\t\n",
       "              \tType           =\tz-cylinder\n",
       "              \tBoundary       =\ttransmission\n",
       "              \tCoefficients   \n",
       "              x0              =\t5.62102\n",
       "              y0              =\t-4.28498\n",
       "              r               =\t0.66802),\n",
       "             (543,\n",
       "              Surface\n",
       "              \tID             =\t543\n",
       "              \tName           =\t\n",
       "              \tType           =\tz-plane\n",
       "              \tBoundary       =\ttransmission\n",
       "              \tCoefficients   \n",
       "              z0              =\t22.86),\n",
       "             (545,\n",
       "              Surface\n",
       "              \tID             =\t545\n",
       "              \tName           =\t\n",
       "              \tType           =\tz-plane\n",
       "              \tBoundary       =\ttransmission\n",
       "              \tCoefficients   \n",
       "              z0              =\t419.1)])"
      ]
     },
     "execution_count": 59,
     "metadata": {},
     "output_type": "execute_result"
    }
   ],
   "source": [
    "iam[1].region.get_surfaces()"
   ]
  },
  {
   "cell_type": "code",
   "execution_count": null,
   "id": "7b0ce507",
   "metadata": {},
   "outputs": [],
   "source": [
    "cone_i.cone"
   ]
  },
  {
   "cell_type": "code",
   "execution_count": 10,
   "id": "ec266af0",
   "metadata": {},
   "outputs": [],
   "source": [
    "ia_plots = openmc.Plots()\n",
    "iia_plots = openmc.Plots()\n",
    "\n",
    "plot = openmc.Plot()\n",
    "plot.origin=(0, 0, 10.0)\n",
    "plot.width=(20, 20)\n",
    "plot.pixels=(1000,1000)\n",
    "plot.color_by='material'\n",
    "plot.colors=colormap\n",
    "plot.basis='xy'\n",
    "ia_plots.append(plot)\n",
    "\n",
    "plot = openmc.Plot()\n",
    "plot.origin=(0, 0, 10.0)\n",
    "plot.width=(20, 20)\n",
    "plot.pixels=(1000,1000)\n",
    "plot.color_by='material'\n",
    "plot.colors=colormap\n",
    "plot.basis='xy'\n",
    "iia_plots.append(plot)\n",
    "\n",
    "plot = openmc.Plot()\n",
    "plot.origin=(0, 0, 23.0)\n",
    "plot.width=(20, 20)\n",
    "plot.pixels=(1000,1000)\n",
    "plot.color_by='material'\n",
    "plot.colors=colormap\n",
    "plot.basis='xy'\n",
    "ia_plots.append(plot)\n",
    "\n",
    "plot = openmc.Plot()\n",
    "plot.origin=(0, 0, 435)\n",
    "plot.width=(20, 20)\n",
    "plot.pixels=(1000,1000)\n",
    "plot.color_by='material'\n",
    "plot.colors=colormap\n",
    "plot.basis='xy'\n",
    "iia_plots.append(plot)\n",
    "\n",
    "plot = openmc.Plot()\n",
    "plot.origin=(0, 0, 420)\n",
    "plot.width=(20, 20)\n",
    "plot.pixels=(1000,1000)\n",
    "plot.color_by='material'\n",
    "plot.colors=colormap\n",
    "plot.basis='xy'\n",
    "ia_plots.append(plot)\n",
    "\n",
    "plot = openmc.Plot()\n",
    "plot.origin=(0, 0, 437)\n",
    "plot.width=(20, 20)\n",
    "plot.pixels=(1000,1000)\n",
    "plot.color_by='material'\n",
    "plot.colors=colormap\n",
    "plot.basis='xy'\n",
    "iia_plots.append(plot)\n",
    "\n",
    "plot = openmc.Plot()\n",
    "plot.origin=(0, 0, 439)\n",
    "plot.width=(20, 20)\n",
    "plot.pixels=(1000,1000)\n",
    "plot.color_by='material'\n",
    "plot.colors=colormap\n",
    "plot.basis='xy'\n",
    "ia_plots.append(plot)\n",
    "\n",
    "plot = openmc.Plot()\n",
    "plot.origin=(0, 0, 440)\n",
    "plot.width=(20, 20)\n",
    "plot.pixels=(1000,1000)\n",
    "plot.color_by='material'\n",
    "plot.colors=colormap\n",
    "plot.basis='xy'\n",
    "iia_plots.append(plot)\n",
    "\n",
    "plot = openmc.Plot()\n",
    "plot.origin=(0, 0, 448)\n",
    "plot.width=(20, 20)\n",
    "plot.pixels=(1000,1000)\n",
    "plot.color_by='material'\n",
    "plot.colors=colormap\n",
    "plot.basis='xy'\n",
    "ia_plots.append(plot)\n",
    "\n",
    "plot = openmc.Plot()\n",
    "plot.origin=(0, 0, 442)\n",
    "plot.width=(20, 20)\n",
    "plot.pixels=(1000,1000)\n",
    "plot.color_by='material'\n",
    "plot.colors=colormap\n",
    "plot.basis='xy'\n",
    "iia_plots.append(plot)\n",
    "\n",
    "plot = openmc.Plot()\n",
    "plot.origin=(0, 0, 450)\n",
    "plot.width=(100, 100)\n",
    "plot.pixels=(1000,1000)\n",
    "plot.color_by='material'\n",
    "plot.colors=colormap\n",
    "plot.basis='xz'\n",
    "ia_plots.append(plot)\n",
    "\n",
    "plot = openmc.Plot()\n",
    "plot.origin=(0, 0, 450)\n",
    "plot.width=(100, 100)\n",
    "plot.pixels=(1000,1000)\n",
    "plot.color_by='material'\n",
    "plot.colors=colormap\n",
    "plot.basis='xz'\n",
    "iia_plots.append(plot)\n",
    "\n",
    "plot = openmc.Plot()\n",
    "plot.origin=(0, 0, 50)\n",
    "plot.width=(100, 100)\n",
    "plot.pixels=(1000,1000)\n",
    "plot.color_by='material'\n",
    "plot.colors=colormap\n",
    "plot.basis='xz'\n",
    "ia_plots.append(plot)\n",
    "\n",
    "plot = openmc.Plot()\n",
    "plot.origin=(0, 0, 50)\n",
    "plot.width=(100, 100)\n",
    "plot.pixels=(1000,1000)\n",
    "plot.color_by='material'\n",
    "plot.colors=colormap\n",
    "plot.basis='xz'\n",
    "iia_plots.append(plot)"
   ]
  },
  {
   "cell_type": "code",
   "execution_count": 10,
   "id": "5eb47b69",
   "metadata": {},
   "outputs": [],
   "source": [
    "ia_plots.export_to_xml()"
   ]
  },
  {
   "cell_type": "code",
   "execution_count": 11,
   "id": "acb7a1ac",
   "metadata": {},
   "outputs": [],
   "source": [
    "iia_plots.export_to_xml()"
   ]
  },
  {
   "cell_type": "code",
   "execution_count": 7,
   "id": "3e2678c0",
   "metadata": {},
   "outputs": [],
   "source": [
    "geo = openmc.Geometry([ia_fuel_outer_main])"
   ]
  },
  {
   "cell_type": "code",
   "execution_count": 8,
   "id": "73819ebe",
   "metadata": {},
   "outputs": [],
   "source": [
    "geo.export_to_xml()"
   ]
  },
  {
   "cell_type": "code",
   "execution_count": 14,
   "id": "81d25d51",
   "metadata": {},
   "outputs": [
    {
     "data": {
      "text/plain": [
       "OrderedDict([(5,\n",
       "              Surface\n",
       "              \tID             =\t5\n",
       "              \tName           =\tminimum x\n",
       "              \tType           =\tx-plane\n",
       "              \tBoundary       =\ttransmission\n",
       "              \tCoefficients   \n",
       "              x0              =\t-4.953),\n",
       "             (6,\n",
       "              Surface\n",
       "              \tID             =\t6\n",
       "              \tName           =\tmaximum x\n",
       "              \tType           =\tx-plane\n",
       "              \tBoundary       =\ttransmission\n",
       "              \tCoefficients   \n",
       "              x0              =\t4.953),\n",
       "             (7,\n",
       "              Surface\n",
       "              \tID             =\t7\n",
       "              \tName           =\tminimum y\n",
       "              \tType           =\ty-plane\n",
       "              \tBoundary       =\ttransmission\n",
       "              \tCoefficients   \n",
       "              y0              =\t-4.953),\n",
       "             (8,\n",
       "              Surface\n",
       "              \tID             =\t8\n",
       "              \tName           =\tmaximum y\n",
       "              \tType           =\ty-plane\n",
       "              \tBoundary       =\ttransmission\n",
       "              \tCoefficients   \n",
       "              y0              =\t4.953)])"
      ]
     },
     "execution_count": 14,
     "metadata": {},
     "output_type": "execute_result"
    }
   ],
   "source": [
    "ia_fuel_outer_main.region.get_surfaces()"
   ]
  },
  {
   "cell_type": "code",
   "execution_count": null,
   "id": "2ea8a475",
   "metadata": {},
   "outputs": [],
   "source": []
  }
 ],
 "metadata": {
  "kernelspec": {
   "display_name": "Python [conda env:openmc-env] *",
   "language": "python",
   "name": "conda-env-openmc-env-py"
  },
  "language_info": {
   "codemirror_mode": {
    "name": "ipython",
    "version": 3
   },
   "file_extension": ".py",
   "mimetype": "text/x-python",
   "name": "python",
   "nbconvert_exporter": "python",
   "pygments_lexer": "ipython3",
   "version": "3.10.6"
  }
 },
 "nbformat": 4,
 "nbformat_minor": 5
}
